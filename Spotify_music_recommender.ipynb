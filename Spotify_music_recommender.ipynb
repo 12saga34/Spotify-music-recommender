{
 "cells": [
  {
   "cell_type": "code",
   "execution_count": 128,
   "metadata": {
    "colab": {
     "base_uri": "https://localhost:8080/"
    },
    "id": "NDo_AukGhmBe",
    "outputId": "2177a147-ce7f-4077-b05f-34a7f08d3a45"
   },
   "outputs": [
    {
     "name": "stdout",
     "output_type": "stream",
     "text": [
      "Requirement already satisfied: spotipy in c:\\users\\lenovo\\anaconda3\\lib\\site-packages (2.20.0)\n",
      "Requirement already satisfied: requests>=2.25.0 in c:\\users\\lenovo\\anaconda3\\lib\\site-packages (from spotipy) (2.25.1)\n",
      "Requirement already satisfied: redis>=3.5.3 in c:\\users\\lenovo\\anaconda3\\lib\\site-packages (from spotipy) (4.3.4)\n",
      "Requirement already satisfied: six>=1.15.0 in c:\\users\\lenovo\\anaconda3\\lib\\site-packages (from spotipy) (1.15.0)\n",
      "Requirement already satisfied: urllib3>=1.26.0 in c:\\users\\lenovo\\anaconda3\\lib\\site-packages (from spotipy) (1.26.4)\n",
      "Requirement already satisfied: deprecated>=1.2.3 in c:\\users\\lenovo\\anaconda3\\lib\\site-packages (from redis>=3.5.3->spotipy) (1.2.13)\n",
      "Requirement already satisfied: async-timeout>=4.0.2 in c:\\users\\lenovo\\anaconda3\\lib\\site-packages (from redis>=3.5.3->spotipy) (4.0.2)\n",
      "Requirement already satisfied: packaging>=20.4 in c:\\users\\lenovo\\anaconda3\\lib\\site-packages (from redis>=3.5.3->spotipy) (20.9)\n",
      "Requirement already satisfied: wrapt<2,>=1.10 in c:\\users\\lenovo\\anaconda3\\lib\\site-packages (from deprecated>=1.2.3->redis>=3.5.3->spotipy) (1.12.1)\n",
      "Requirement already satisfied: pyparsing>=2.0.2 in c:\\users\\lenovo\\anaconda3\\lib\\site-packages (from packaging>=20.4->redis>=3.5.3->spotipy) (2.4.7)\n",
      "Requirement already satisfied: certifi>=2017.4.17 in c:\\users\\lenovo\\anaconda3\\lib\\site-packages (from requests>=2.25.0->spotipy) (2020.12.5)\n",
      "Requirement already satisfied: idna<3,>=2.5 in c:\\users\\lenovo\\anaconda3\\lib\\site-packages (from requests>=2.25.0->spotipy) (2.10)\n",
      "Requirement already satisfied: chardet<5,>=3.0.2 in c:\\users\\lenovo\\anaconda3\\lib\\site-packages (from requests>=2.25.0->spotipy) (4.0.0)\n"
     ]
    }
   ],
   "source": [
    "!pip install spotipy"
   ]
  },
  {
   "cell_type": "code",
   "execution_count": 129,
   "metadata": {
    "id": "ShjbCh1qhsb1"
   },
   "outputs": [],
   "source": [
    "import spotipy\n",
    "from spotipy.oauth2 import SpotifyClientCredentials\n",
    "from spotipy.oauth2 import SpotifyOAuth\n",
    "import spotipy.util as util\n",
    "\n",
    "from skimage import io\n",
    "import matplotlib.pyplot as plt\n",
    "import pandas as pd\n",
    "from datetime import datetime\n",
    "\n",
    "\n",
    "from sklearn.preprocessing import MinMaxScaler\n",
    "from sklearn.metrics.pairwise import cosine_similarity"
   ]
  },
  {
   "cell_type": "code",
   "execution_count": 130,
   "metadata": {
    "colab": {
     "base_uri": "https://localhost:8080/",
     "height": 461
    },
    "id": "cRKjivd-h5_O",
    "outputId": "b0a25c41-fb89-49c7-ead9-6423b7d21fd8"
   },
   "outputs": [
    {
     "data": {
      "text/html": [
       "<div>\n",
       "<style scoped>\n",
       "    .dataframe tbody tr th:only-of-type {\n",
       "        vertical-align: middle;\n",
       "    }\n",
       "\n",
       "    .dataframe tbody tr th {\n",
       "        vertical-align: top;\n",
       "    }\n",
       "\n",
       "    .dataframe thead th {\n",
       "        text-align: right;\n",
       "    }\n",
       "</style>\n",
       "<table border=\"1\" class=\"dataframe\">\n",
       "  <thead>\n",
       "    <tr style=\"text-align: right;\">\n",
       "      <th></th>\n",
       "      <th>genre</th>\n",
       "      <th>artist_name</th>\n",
       "      <th>track_name</th>\n",
       "      <th>track_id</th>\n",
       "      <th>popularity</th>\n",
       "      <th>acousticness</th>\n",
       "      <th>danceability</th>\n",
       "      <th>duration_ms</th>\n",
       "      <th>energy</th>\n",
       "      <th>instrumentalness</th>\n",
       "      <th>key</th>\n",
       "      <th>liveness</th>\n",
       "      <th>loudness</th>\n",
       "      <th>mode</th>\n",
       "      <th>speechiness</th>\n",
       "      <th>tempo</th>\n",
       "      <th>time_signature</th>\n",
       "      <th>valence</th>\n",
       "    </tr>\n",
       "  </thead>\n",
       "  <tbody>\n",
       "    <tr>\n",
       "      <th>0</th>\n",
       "      <td>Movie</td>\n",
       "      <td>Henri Salvador</td>\n",
       "      <td>C'est beau de faire un Show</td>\n",
       "      <td>0BRjO6ga9RKCKjfDqeFgWV</td>\n",
       "      <td>0</td>\n",
       "      <td>0.611</td>\n",
       "      <td>0.389</td>\n",
       "      <td>99373</td>\n",
       "      <td>0.910</td>\n",
       "      <td>0.000</td>\n",
       "      <td>C#</td>\n",
       "      <td>0.3460</td>\n",
       "      <td>-1.828</td>\n",
       "      <td>Major</td>\n",
       "      <td>0.0525</td>\n",
       "      <td>166.969</td>\n",
       "      <td>4/4</td>\n",
       "      <td>0.814</td>\n",
       "    </tr>\n",
       "    <tr>\n",
       "      <th>1</th>\n",
       "      <td>Movie</td>\n",
       "      <td>Martin &amp; les fées</td>\n",
       "      <td>Perdu d'avance (par Gad Elmaleh)</td>\n",
       "      <td>0BjC1NfoEOOusryehmNudP</td>\n",
       "      <td>1</td>\n",
       "      <td>0.246</td>\n",
       "      <td>0.590</td>\n",
       "      <td>137373</td>\n",
       "      <td>0.737</td>\n",
       "      <td>0.000</td>\n",
       "      <td>F#</td>\n",
       "      <td>0.1510</td>\n",
       "      <td>-5.559</td>\n",
       "      <td>Minor</td>\n",
       "      <td>0.0868</td>\n",
       "      <td>174.003</td>\n",
       "      <td>4/4</td>\n",
       "      <td>0.816</td>\n",
       "    </tr>\n",
       "    <tr>\n",
       "      <th>2</th>\n",
       "      <td>Movie</td>\n",
       "      <td>Joseph Williams</td>\n",
       "      <td>Don't Let Me Be Lonely Tonight</td>\n",
       "      <td>0CoSDzoNIKCRs124s9uTVy</td>\n",
       "      <td>3</td>\n",
       "      <td>0.952</td>\n",
       "      <td>0.663</td>\n",
       "      <td>170267</td>\n",
       "      <td>0.131</td>\n",
       "      <td>0.000</td>\n",
       "      <td>C</td>\n",
       "      <td>0.1030</td>\n",
       "      <td>-13.879</td>\n",
       "      <td>Minor</td>\n",
       "      <td>0.0362</td>\n",
       "      <td>99.488</td>\n",
       "      <td>5/4</td>\n",
       "      <td>0.368</td>\n",
       "    </tr>\n",
       "    <tr>\n",
       "      <th>3</th>\n",
       "      <td>Movie</td>\n",
       "      <td>Henri Salvador</td>\n",
       "      <td>Dis-moi Monsieur Gordon Cooper</td>\n",
       "      <td>0Gc6TVm52BwZD07Ki6tIvf</td>\n",
       "      <td>0</td>\n",
       "      <td>0.703</td>\n",
       "      <td>0.240</td>\n",
       "      <td>152427</td>\n",
       "      <td>0.326</td>\n",
       "      <td>0.000</td>\n",
       "      <td>C#</td>\n",
       "      <td>0.0985</td>\n",
       "      <td>-12.178</td>\n",
       "      <td>Major</td>\n",
       "      <td>0.0395</td>\n",
       "      <td>171.758</td>\n",
       "      <td>4/4</td>\n",
       "      <td>0.227</td>\n",
       "    </tr>\n",
       "    <tr>\n",
       "      <th>4</th>\n",
       "      <td>Movie</td>\n",
       "      <td>Fabien Nataf</td>\n",
       "      <td>Ouverture</td>\n",
       "      <td>0IuslXpMROHdEPvSl1fTQK</td>\n",
       "      <td>4</td>\n",
       "      <td>0.950</td>\n",
       "      <td>0.331</td>\n",
       "      <td>82625</td>\n",
       "      <td>0.225</td>\n",
       "      <td>0.123</td>\n",
       "      <td>F</td>\n",
       "      <td>0.2020</td>\n",
       "      <td>-21.150</td>\n",
       "      <td>Major</td>\n",
       "      <td>0.0456</td>\n",
       "      <td>140.576</td>\n",
       "      <td>4/4</td>\n",
       "      <td>0.390</td>\n",
       "    </tr>\n",
       "  </tbody>\n",
       "</table>\n",
       "</div>"
      ],
      "text/plain": [
       "   genre        artist_name                        track_name  \\\n",
       "0  Movie     Henri Salvador       C'est beau de faire un Show   \n",
       "1  Movie  Martin & les fées  Perdu d'avance (par Gad Elmaleh)   \n",
       "2  Movie    Joseph Williams    Don't Let Me Be Lonely Tonight   \n",
       "3  Movie     Henri Salvador    Dis-moi Monsieur Gordon Cooper   \n",
       "4  Movie       Fabien Nataf                         Ouverture   \n",
       "\n",
       "                 track_id  popularity  acousticness  danceability  \\\n",
       "0  0BRjO6ga9RKCKjfDqeFgWV           0         0.611         0.389   \n",
       "1  0BjC1NfoEOOusryehmNudP           1         0.246         0.590   \n",
       "2  0CoSDzoNIKCRs124s9uTVy           3         0.952         0.663   \n",
       "3  0Gc6TVm52BwZD07Ki6tIvf           0         0.703         0.240   \n",
       "4  0IuslXpMROHdEPvSl1fTQK           4         0.950         0.331   \n",
       "\n",
       "   duration_ms  energy  instrumentalness key  liveness  loudness   mode  \\\n",
       "0        99373   0.910             0.000  C#    0.3460    -1.828  Major   \n",
       "1       137373   0.737             0.000  F#    0.1510    -5.559  Minor   \n",
       "2       170267   0.131             0.000   C    0.1030   -13.879  Minor   \n",
       "3       152427   0.326             0.000  C#    0.0985   -12.178  Major   \n",
       "4        82625   0.225             0.123   F    0.2020   -21.150  Major   \n",
       "\n",
       "   speechiness    tempo time_signature  valence  \n",
       "0       0.0525  166.969            4/4    0.814  \n",
       "1       0.0868  174.003            4/4    0.816  \n",
       "2       0.0362   99.488            5/4    0.368  \n",
       "3       0.0395  171.758            4/4    0.227  \n",
       "4       0.0456  140.576            4/4    0.390  "
      ]
     },
     "execution_count": 130,
     "metadata": {},
     "output_type": "execute_result"
    }
   ],
   "source": [
    "spotify_data = pd.read_csv(r\"C:\\Users\\Lenovo\\Downloads\\SpotifyFeatures.csv\\SpotifyFeatures.csv\")\n",
    "spotify_data.head()"
   ]
  },
  {
   "cell_type": "code",
   "execution_count": 131,
   "metadata": {
    "id": "re9SSjKYijaP"
   },
   "outputs": [],
   "source": [
    "spotify_features_df = spotify_data\n",
    "genre_OHE = pd.get_dummies(spotify_features_df.genre)\n",
    "key_OHE = pd.get_dummies(spotify_features_df.key)"
   ]
  },
  {
   "cell_type": "code",
   "execution_count": 132,
   "metadata": {
    "id": "x4iDVE0qikLX"
   },
   "outputs": [],
   "source": [
    "scaled_features = MinMaxScaler().fit_transform([\n",
    "  spotify_features_df['acousticness'].values,\n",
    "  spotify_features_df['danceability'].values,\n",
    "  spotify_features_df['duration_ms'].values,\n",
    "  spotify_features_df['energy'].values,\n",
    "  spotify_features_df['instrumentalness'].values,\n",
    "  spotify_features_df['liveness'].values,\n",
    "  spotify_features_df['loudness'].values,\n",
    "  spotify_features_df['speechiness'].values,\n",
    "  spotify_features_df['tempo'].values,\n",
    "  spotify_features_df['valence'].values,\n",
    "  ])"
   ]
  },
  {
   "cell_type": "code",
   "execution_count": 133,
   "metadata": {
    "id": "yUex1fy-ir31"
   },
   "outputs": [],
   "source": [
    "#Storing the transformed column vectors into our dataframe\n",
    "spotify_features_df[['acousticness','danceability','duration_ms','energy','instrumentalness','liveness','loudness','speechiness','tempo','valence']] = scaled_features.T"
   ]
  },
  {
   "cell_type": "code",
   "execution_count": 134,
   "metadata": {
    "id": "N9oa64Axi13G"
   },
   "outputs": [],
   "source": [
    "#discarding the categorical and unnecessary features \n",
    "spotify_features_df = spotify_features_df.drop('genre',axis = 1)\n",
    "spotify_features_df = spotify_features_df.drop('artist_name', axis = 1)\n",
    "spotify_features_df = spotify_features_df.drop('track_name', axis = 1)\n",
    "spotify_features_df = spotify_features_df.drop('popularity',axis = 1)\n",
    "spotify_features_df = spotify_features_df.drop('key', axis = 1)\n",
    "spotify_features_df = spotify_features_df.drop('mode', axis = 1)\n",
    "spotify_features_df = spotify_features_df.drop('time_signature', axis = 1)"
   ]
  },
  {
   "cell_type": "code",
   "execution_count": 135,
   "metadata": {
    "id": "2L9tGk0SjFw1"
   },
   "outputs": [],
   "source": [
    "#Appending the OHE columns of the categorical features\n",
    "spotify_features_df = spotify_features_df.join(genre_OHE)\n",
    "spotify_features_df = spotify_features_df.join(key_OHE)"
   ]
  },
  {
   "cell_type": "code",
   "execution_count": 136,
   "metadata": {
    "colab": {
     "base_uri": "https://localhost:8080/",
     "height": 299
    },
    "id": "HoB4i7GDjjMi",
    "outputId": "a4912c9c-f4cd-45fe-dd28-5d41479e6668"
   },
   "outputs": [
    {
     "data": {
      "text/html": [
       "<div>\n",
       "<style scoped>\n",
       "    .dataframe tbody tr th:only-of-type {\n",
       "        vertical-align: middle;\n",
       "    }\n",
       "\n",
       "    .dataframe tbody tr th {\n",
       "        vertical-align: top;\n",
       "    }\n",
       "\n",
       "    .dataframe thead th {\n",
       "        text-align: right;\n",
       "    }\n",
       "</style>\n",
       "<table border=\"1\" class=\"dataframe\">\n",
       "  <thead>\n",
       "    <tr style=\"text-align: right;\">\n",
       "      <th></th>\n",
       "      <th>track_id</th>\n",
       "      <th>acousticness</th>\n",
       "      <th>danceability</th>\n",
       "      <th>duration_ms</th>\n",
       "      <th>energy</th>\n",
       "      <th>instrumentalness</th>\n",
       "      <th>liveness</th>\n",
       "      <th>loudness</th>\n",
       "      <th>speechiness</th>\n",
       "      <th>tempo</th>\n",
       "      <th>...</th>\n",
       "      <th>B</th>\n",
       "      <th>C</th>\n",
       "      <th>C#</th>\n",
       "      <th>D</th>\n",
       "      <th>D#</th>\n",
       "      <th>E</th>\n",
       "      <th>F</th>\n",
       "      <th>F#</th>\n",
       "      <th>G</th>\n",
       "      <th>G#</th>\n",
       "    </tr>\n",
       "  </thead>\n",
       "  <tbody>\n",
       "    <tr>\n",
       "      <th>0</th>\n",
       "      <td>0BRjO6ga9RKCKjfDqeFgWV</td>\n",
       "      <td>0.000025</td>\n",
       "      <td>0.000022</td>\n",
       "      <td>1.0</td>\n",
       "      <td>0.000028</td>\n",
       "      <td>0.000018</td>\n",
       "      <td>0.000022</td>\n",
       "      <td>0.0</td>\n",
       "      <td>0.000019</td>\n",
       "      <td>0.001699</td>\n",
       "      <td>...</td>\n",
       "      <td>0</td>\n",
       "      <td>0</td>\n",
       "      <td>1</td>\n",
       "      <td>0</td>\n",
       "      <td>0</td>\n",
       "      <td>0</td>\n",
       "      <td>0</td>\n",
       "      <td>0</td>\n",
       "      <td>0</td>\n",
       "      <td>0</td>\n",
       "    </tr>\n",
       "    <tr>\n",
       "      <th>1</th>\n",
       "      <td>0BjC1NfoEOOusryehmNudP</td>\n",
       "      <td>0.000042</td>\n",
       "      <td>0.000045</td>\n",
       "      <td>1.0</td>\n",
       "      <td>0.000046</td>\n",
       "      <td>0.000040</td>\n",
       "      <td>0.000042</td>\n",
       "      <td>0.0</td>\n",
       "      <td>0.000041</td>\n",
       "      <td>0.001307</td>\n",
       "      <td>...</td>\n",
       "      <td>0</td>\n",
       "      <td>0</td>\n",
       "      <td>0</td>\n",
       "      <td>0</td>\n",
       "      <td>0</td>\n",
       "      <td>0</td>\n",
       "      <td>0</td>\n",
       "      <td>1</td>\n",
       "      <td>0</td>\n",
       "      <td>0</td>\n",
       "    </tr>\n",
       "    <tr>\n",
       "      <th>2</th>\n",
       "      <td>0CoSDzoNIKCRs124s9uTVy</td>\n",
       "      <td>0.000087</td>\n",
       "      <td>0.000085</td>\n",
       "      <td>1.0</td>\n",
       "      <td>0.000082</td>\n",
       "      <td>0.000082</td>\n",
       "      <td>0.000082</td>\n",
       "      <td>0.0</td>\n",
       "      <td>0.000082</td>\n",
       "      <td>0.000666</td>\n",
       "      <td>...</td>\n",
       "      <td>0</td>\n",
       "      <td>1</td>\n",
       "      <td>0</td>\n",
       "      <td>0</td>\n",
       "      <td>0</td>\n",
       "      <td>0</td>\n",
       "      <td>0</td>\n",
       "      <td>0</td>\n",
       "      <td>0</td>\n",
       "      <td>0</td>\n",
       "    </tr>\n",
       "    <tr>\n",
       "      <th>3</th>\n",
       "      <td>0Gc6TVm52BwZD07Ki6tIvf</td>\n",
       "      <td>0.000084</td>\n",
       "      <td>0.000081</td>\n",
       "      <td>1.0</td>\n",
       "      <td>0.000082</td>\n",
       "      <td>0.000080</td>\n",
       "      <td>0.000081</td>\n",
       "      <td>0.0</td>\n",
       "      <td>0.000080</td>\n",
       "      <td>0.001207</td>\n",
       "      <td>...</td>\n",
       "      <td>0</td>\n",
       "      <td>0</td>\n",
       "      <td>1</td>\n",
       "      <td>0</td>\n",
       "      <td>0</td>\n",
       "      <td>0</td>\n",
       "      <td>0</td>\n",
       "      <td>0</td>\n",
       "      <td>0</td>\n",
       "      <td>0</td>\n",
       "    </tr>\n",
       "    <tr>\n",
       "      <th>4</th>\n",
       "      <td>0IuslXpMROHdEPvSl1fTQK</td>\n",
       "      <td>0.000267</td>\n",
       "      <td>0.000260</td>\n",
       "      <td>1.0</td>\n",
       "      <td>0.000259</td>\n",
       "      <td>0.000257</td>\n",
       "      <td>0.000258</td>\n",
       "      <td>0.0</td>\n",
       "      <td>0.000256</td>\n",
       "      <td>0.001957</td>\n",
       "      <td>...</td>\n",
       "      <td>0</td>\n",
       "      <td>0</td>\n",
       "      <td>0</td>\n",
       "      <td>0</td>\n",
       "      <td>0</td>\n",
       "      <td>0</td>\n",
       "      <td>1</td>\n",
       "      <td>0</td>\n",
       "      <td>0</td>\n",
       "      <td>0</td>\n",
       "    </tr>\n",
       "  </tbody>\n",
       "</table>\n",
       "<p>5 rows × 50 columns</p>\n",
       "</div>"
      ],
      "text/plain": [
       "                 track_id  acousticness  danceability  duration_ms    energy  \\\n",
       "0  0BRjO6ga9RKCKjfDqeFgWV      0.000025      0.000022          1.0  0.000028   \n",
       "1  0BjC1NfoEOOusryehmNudP      0.000042      0.000045          1.0  0.000046   \n",
       "2  0CoSDzoNIKCRs124s9uTVy      0.000087      0.000085          1.0  0.000082   \n",
       "3  0Gc6TVm52BwZD07Ki6tIvf      0.000084      0.000081          1.0  0.000082   \n",
       "4  0IuslXpMROHdEPvSl1fTQK      0.000267      0.000260          1.0  0.000259   \n",
       "\n",
       "   instrumentalness  liveness  loudness  speechiness     tempo  ...  B  C  C#  \\\n",
       "0          0.000018  0.000022       0.0     0.000019  0.001699  ...  0  0   1   \n",
       "1          0.000040  0.000042       0.0     0.000041  0.001307  ...  0  0   0   \n",
       "2          0.000082  0.000082       0.0     0.000082  0.000666  ...  0  1   0   \n",
       "3          0.000080  0.000081       0.0     0.000080  0.001207  ...  0  0   1   \n",
       "4          0.000257  0.000258       0.0     0.000256  0.001957  ...  0  0   0   \n",
       "\n",
       "   D  D#  E  F  F#  G  G#  \n",
       "0  0   0  0  0   0  0   0  \n",
       "1  0   0  0  0   1  0   0  \n",
       "2  0   0  0  0   0  0   0  \n",
       "3  0   0  0  0   0  0   0  \n",
       "4  0   0  0  1   0  0   0  \n",
       "\n",
       "[5 rows x 50 columns]"
      ]
     },
     "execution_count": 136,
     "metadata": {},
     "output_type": "execute_result"
    }
   ],
   "source": [
    "spotify_features_df.head()"
   ]
  },
  {
   "cell_type": "code",
   "execution_count": 137,
   "metadata": {
    "id": "1HgQxBSdlhsp"
   },
   "outputs": [],
   "source": [
    "client_id = '74fbdeac572a4e9b87c41b128a8f7d61'\n",
    "client_secret= '8424e12b9ea24b4ca751ba83db499025'"
   ]
  },
  {
   "cell_type": "code",
   "execution_count": 138,
   "metadata": {
    "colab": {
     "base_uri": "https://localhost:8080/"
    },
    "id": "s6nmKR0jlrHH",
    "outputId": "d63af400-a6cd-4962-cd6d-5fdb8fb04033"
   },
   "outputs": [
    {
     "name": "stdout",
     "output_type": "stream",
     "text": [
      "{'MixedMood': '4Ju9ORUSGBOncS36w0DSbY'}\n"
     ]
    }
   ],
   "source": [
    "#Fetching the playlist\n",
    "scope = 'user-library-read'\n",
    "token = util.prompt_for_user_token(\n",
    "    scope, \n",
    "    client_id= client_id, \n",
    "    client_secret=client_secret, \n",
    "    redirect_uri='http://127.0.0.1:8080'\n",
    "  )\n",
    "sp = spotipy.Spotify(auth=token)\n",
    "playlist_dic = {}\n",
    "playlist_cover_art = {}\n",
    "\n",
    "for i in sp.current_user_playlists()['items']:\n",
    "    playlist_dic[i['name']] = i['uri'].split(':')[2]\n",
    "    playlist_cover_art[i['uri'].split(':')[2]] = i['images'][0]['url']\n",
    "\n",
    "print(playlist_dic)"
   ]
  },
  {
   "cell_type": "code",
   "execution_count": 139,
   "metadata": {
    "colab": {
     "base_uri": "https://localhost:8080/",
     "height": 200
    },
    "id": "JUY5DEcflxTz",
    "outputId": "0864478c-1555-4d9f-a209-e3cb15cc4bcf"
   },
   "outputs": [],
   "source": [
    "#creating the playlist dataframe with extended features using Spotify data\n",
    "def generate_playlist_df(playlist_name, playlist_dic, spotify_data):\n",
    "    \n",
    "    playlist = pd.DataFrame()\n",
    "\n",
    "    for i, j in enumerate(sp.playlist(playlist_dic[playlist_name])['tracks']['items']):\n",
    "        playlist.loc[i, 'artist'] = j['track']['artists'][0]['name']\n",
    "        playlist.loc[i, 'track_name'] = j['track']['name']\n",
    "        playlist.loc[i, 'track_id'] = j['track']['id']\n",
    "        playlist.loc[i, 'url'] = j['track']['album']['images'][1]['url']\n",
    "        playlist.loc[i, 'date_added'] = j['added_at']\n",
    "\n",
    "    playlist['date_added'] = pd.to_datetime(playlist['date_added'])  \n",
    "    \n",
    "    playlist = playlist[playlist['track_id'].isin(spotify_data['track_id'].values)].sort_values('date_added',ascending = False)\n",
    "\n",
    "    return playlist\n",
    "playlist_df = generate_playlist_df('MixedMood', playlist_dic, spotify_data) "
   ]
  },
  {
   "cell_type": "code",
   "execution_count": 140,
   "metadata": {
    "id": "vd7xjLZKmBOz"
   },
   "outputs": [
    {
     "data": {
      "text/html": [
       "<div>\n",
       "<style scoped>\n",
       "    .dataframe tbody tr th:only-of-type {\n",
       "        vertical-align: middle;\n",
       "    }\n",
       "\n",
       "    .dataframe tbody tr th {\n",
       "        vertical-align: top;\n",
       "    }\n",
       "\n",
       "    .dataframe thead th {\n",
       "        text-align: right;\n",
       "    }\n",
       "</style>\n",
       "<table border=\"1\" class=\"dataframe\">\n",
       "  <thead>\n",
       "    <tr style=\"text-align: right;\">\n",
       "      <th></th>\n",
       "      <th>artist</th>\n",
       "      <th>track_name</th>\n",
       "      <th>track_id</th>\n",
       "      <th>url</th>\n",
       "      <th>date_added</th>\n",
       "    </tr>\n",
       "  </thead>\n",
       "  <tbody>\n",
       "  </tbody>\n",
       "</table>\n",
       "</div>"
      ],
      "text/plain": [
       "Empty DataFrame\n",
       "Columns: [artist, track_name, track_id, url, date_added]\n",
       "Index: []"
      ]
     },
     "execution_count": 140,
     "metadata": {},
     "output_type": "execute_result"
    }
   ],
   "source": [
    "playlist_df.head()"
   ]
  },
  {
   "cell_type": "code",
   "execution_count": 141,
   "metadata": {
    "id": "VDulBYB0mJ2T"
   },
   "outputs": [],
   "source": [
    "from skimage import io\n",
    "import matplotlib.pyplot as plt\n",
    "\n",
    "def visualize_cover_art(playlist_df):\n",
    "    temp = playlist_df['url'].values\n",
    "    plt.figure(figsize=(15,int(0.625 * len(temp))) , facecolor='#8cfc03')\n",
    "    columns = 5\n",
    "    \n",
    "    for i, url in enumerate(temp):\n",
    "        plt.subplot(len(temp) / columns + 1, columns, i + 1)\n",
    "\n",
    "        image = io.imread(url)\n",
    "        plt.imshow(image)\n",
    "        plt.xticks([])\n",
    "        plt.yticks([])\n",
    "        s='' \n",
    "        plt.xlabel(s.join(playlist_df['track_name'].values[i].split(' ')[:4]), fontsize = 10, fontweight='bold')\n",
    "        plt.tight_layout(h_pad=0.8, w_pad=0)\n",
    "        plt.subplots_adjust(wspace=None, hspace=None)\n",
    "\n",
    "    plt.show()"
   ]
  },
  {
   "cell_type": "code",
   "execution_count": 142,
   "metadata": {
    "id": "daRLw7cAmRZm"
   },
   "outputs": [
    {
     "data": {
      "text/plain": [
       "<Figure size 1080x0 with 0 Axes>"
      ]
     },
     "metadata": {},
     "output_type": "display_data"
    }
   ],
   "source": [
    "visualize_cover_art(playlist_df)"
   ]
  },
  {
   "cell_type": "code",
   "execution_count": 143,
   "metadata": {
    "id": "XnuqN-damXkU"
   },
   "outputs": [],
   "source": [
    "def generate_playlist_vector(spotify_features, playlist_df, weight_factor):\n",
    "    \n",
    "    spotify_features_playlist = spotify_features[spotify_features['track_id'].isin(playlist_df['track_id'].values)]\n",
    "    spotify_features_playlist = spotify_features_playlist.merge(playlist_df[['track_id','date_added']], on = 'track_id', how = 'inner')\n",
    "    \n",
    "    spotify_features_nonplaylist = spotify_features[~spotify_features['track_id'].isin(playlist_df['track_id'].values)]\n",
    "    \n",
    "    playlist_feature_set = spotify_features_playlist.sort_values('date_added',ascending=False)\n",
    "    \n",
    "    \n",
    "    most_recent_date = playlist_feature_set.iloc[0,-1]\n",
    "    \n",
    "    for ix, row in playlist_feature_set.iterrows():\n",
    "        playlist_feature_set.loc[ix,'days_from_recent'] = int((most_recent_date.to_pydatetime() - row.iloc[-1].to_pydatetime()).days)\n",
    "        \n",
    "    \n",
    "    playlist_feature_set['weight'] = playlist_feature_set['days_from_recent'].apply(lambda x: weight_factor ** (-x))\n",
    "    \n",
    "    playlist_feature_set_weighted = playlist_feature_set.copy()\n",
    "    \n",
    "    playlist_feature_set_weighted.update(playlist_feature_set_weighted.iloc[:,:-3].mul(playlist_feature_set_weighted.weight.astype(int),0))   \n",
    "    \n",
    "    playlist_feature_set_weighted_final = playlist_feature_set_weighted.iloc[:, :-3]\n",
    "    \n",
    "\n",
    "    \n",
    "    return playlist_feature_set_weighted_final.sum(axis = 0), spotify_features_nonplaylist"
   ]
  },
  {
   "cell_type": "code",
   "execution_count": null,
   "metadata": {},
   "outputs": [],
   "source": [
    "playlist_vector, nonplaylist_df = generate_playlist_vector(spotify_features_df, playlist_df, 1.2)\n",
    "print(playlist_vector.shape)\n",
    "print(nonplaylist_df.head())"
   ]
  },
  {
   "cell_type": "code",
   "execution_count": null,
   "metadata": {
    "id": "WtccMSXAmlb_"
   },
   "outputs": [],
   "source": [
    "def generate_recommendation(spotify_data, playlist_vector, nonplaylist_df):\n",
    "\n",
    "    non_playlist = spotify_data[spotify_data['track_id'].isin(nonplaylist_df['track_id'].values)]\n",
    "    non_playlist['sim'] = cosine_similarity(nonplaylist_df.drop(['track_id'], axis = 1).values, playlist_vector.drop(labels = 'track_id').values.reshape(1, -1))[:,0]\n",
    "    non_playlist_top15 = non_playlist.sort_values('sim',ascending = False).head(15)\n",
    "    non_playlist_top15['url'] = non_playlist_top15['track_id'].apply(lambda x: sp.track(x)['album']['images'][1]['url'])\n",
    "    \n",
    "    return  non_playlist_top15"
   ]
  },
  {
   "cell_type": "code",
   "execution_count": null,
   "metadata": {
    "id": "cdUuctUNmyHm"
   },
   "outputs": [],
   "source": [
    "top15 = generate_recommendation(spotify_data, playlist_vector, nonplaylist_df)  \n",
    "top15.head()"
   ]
  },
  {
   "cell_type": "code",
   "execution_count": null,
   "metadata": {},
   "outputs": [],
   "source": [
    "#Visulaizing the cover-art of the recommended playlist\n",
    "visualize_cover_art(top10)"
   ]
  },
  {
   "cell_type": "code",
   "execution_count": null,
   "metadata": {},
   "outputs": [],
   "source": []
  },
  {
   "cell_type": "code",
   "execution_count": null,
   "metadata": {},
   "outputs": [],
   "source": []
  },
  {
   "cell_type": "code",
   "execution_count": null,
   "metadata": {},
   "outputs": [],
   "source": []
  }
 ],
 "metadata": {
  "colab": {
   "collapsed_sections": [],
   "name": "Untitled4.ipynb",
   "provenance": []
  },
  "kernelspec": {
   "display_name": "Python 3",
   "language": "python",
   "name": "python3"
  },
  "language_info": {
   "codemirror_mode": {
    "name": "ipython",
    "version": 3
   },
   "file_extension": ".py",
   "mimetype": "text/x-python",
   "name": "python",
   "nbconvert_exporter": "python",
   "pygments_lexer": "ipython3",
   "version": "3.8.8"
  }
 },
 "nbformat": 4,
 "nbformat_minor": 1
}
